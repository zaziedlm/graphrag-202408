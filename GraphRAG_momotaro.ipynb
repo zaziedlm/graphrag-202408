{
  "cells": [
    {
      "cell_type": "code",
      "execution_count": null,
      "metadata": {
        "id": "idy48NmiizAM"
      },
      "outputs": [],
      "source": [
        "# 参考 https://blog.langchain.dev/enhancing-rag-based-applications-accuracy-by-constructing-and-leveraging-knowledge-graphs/"
      ]
    },
    {
      "cell_type": "code",
      "execution_count": null,
      "metadata": {
        "id": "HcmWzBUTwkn_"
      },
      "outputs": [],
      "source": [
        "%%capture\n",
        "%pip install --upgrade --quiet  langchain langchain-community langchain-openai langchain-experimental neo4j wikipedia tiktoken yfiles_jupyter_graphs"
      ]
    },
    {
      "cell_type": "code",
      "execution_count": null,
      "metadata": {},
      "outputs": [],
      "source": [
        "!pip list"
      ]
    },
    {
      "cell_type": "code",
      "execution_count": null,
      "metadata": {
        "id": "e4CJ4P8_wnpB"
      },
      "outputs": [],
      "source": [
        "import os\n",
        "from neo4j import GraphDatabase\n",
        "from yfiles_jupyter_graphs import GraphWidget\n",
        "from langchain_core.runnables import RunnableLambda, RunnableParallel, RunnablePassthrough, ConfigurableField\n",
        "from langchain_core.prompts import ChatPromptTemplate\n",
        "from langchain_core.prompts.prompt import PromptTemplate\n",
        "from langchain_core.pydantic_v1 import BaseModel, Field\n",
        "from typing import List\n",
        "from langchain_core.output_parsers import StrOutputParser\n",
        "from langchain_community.graphs import Neo4jGraph\n",
        "from langchain.document_loaders import TextLoader\n",
        "from langchain.text_splitter import TokenTextSplitter\n",
        "from langchain_openai import ChatOpenAI\n",
        "from langchain_experimental.graph_transformers import LLMGraphTransformer\n",
        "from langchain_community.vectorstores import Neo4jVector\n",
        "from langchain_openai import OpenAIEmbeddings\n",
        "from langchain_community.vectorstores.neo4j_vector import remove_lucene_chars\n",
        "from dotenv import load_dotenv\n",
        "\n",
        "# try:\n",
        "#     import google.colab\n",
        "#     from google.colab import output\n",
        "#     output.enable_custom_widget_manager()\n",
        "# except:\n",
        "#     pass"
      ]
    },
    {
      "cell_type": "code",
      "execution_count": null,
      "metadata": {},
      "outputs": [],
      "source": [
        "# read .env file\n",
        "load_dotenv()"
      ]
    },
    {
      "cell_type": "code",
      "execution_count": null,
      "metadata": {
        "colab": {
          "base_uri": "https://localhost:8080/"
        },
        "id": "I1HEY7cDiUUl",
        "outputId": "2c8c5fcd-59a4-4f85-ee26-372379ed0dae"
      },
      "outputs": [],
      "source": [
        "# import getpass\n",
        "\n",
        "# os.environ[\"OPENAI_API_KEY\"] = getpass.getpass(prompt = 'OpenAIのAPIキーを入力してください')\n",
        "# os.environ[\"NEO4J_URI\"] = getpass.getpass(prompt = 'NEO4JのURIを入力してください')\n",
        "# os.environ[\"NEO4J_USERNAME\"] = getpass.getpass(prompt = 'NEO4JのUSERNAMEを入力してください')\n",
        "# os.environ[\"NEO4J_PASSWORD\"] = getpass.getpass(prompt = 'NEO4Jのパスワードを入力してください')"
      ]
    },
    {
      "cell_type": "code",
      "execution_count": null,
      "metadata": {
        "id": "ATSvt8Rt3se8"
      },
      "outputs": [],
      "source": [
        "raw_documents = TextLoader('aozora_momotaro.txt', encoding='utf-8').load()\n",
        "text_splitter = TokenTextSplitter(chunk_size=512, chunk_overlap=125)\n",
        "documents = text_splitter.split_documents(raw_documents)"
      ]
    },
    {
      "cell_type": "code",
      "execution_count": null,
      "metadata": {
        "id": "cJmIRgT7EzEc"
      },
      "outputs": [],
      "source": [
        "#llm=ChatOpenAI(temperature=0, model_name=\"gpt-4o\")\n",
        "llm=ChatOpenAI(temperature=0, model_name=\"gpt-4o-mini\")\n",
        "llm_transformer = LLMGraphTransformer(llm=llm)\n",
        "graph_documents = llm_transformer.convert_to_graph_documents(documents)"
      ]
    },
    {
      "cell_type": "code",
      "execution_count": null,
      "metadata": {
        "colab": {
          "base_uri": "https://localhost:8080/",
          "height": 617
        },
        "id": "DwSUCQSYfOL4",
        "outputId": "cfda6c01-97bc-45bc-b894-c78ed9cd5697"
      },
      "outputs": [],
      "source": [
        "graph = Neo4jGraph()"
      ]
    },
    {
      "cell_type": "code",
      "execution_count": null,
      "metadata": {
        "id": "yYTsmln33_fk"
      },
      "outputs": [],
      "source": [
        "graph.add_graph_documents(\n",
        "    graph_documents,\n",
        "    baseEntityLabel=True,\n",
        "    include_source=True\n",
        ")"
      ]
    },
    {
      "cell_type": "code",
      "execution_count": null,
      "metadata": {
        "id": "6ZSX8NVV4DJy"
      },
      "outputs": [],
      "source": [
        "# directly show the graph resulting from the given Cypher query\n",
        "default_cypher = \"MATCH (s)-[r:!MENTIONS]->(t) RETURN s,r,t LIMIT 50\"\n",
        "\n",
        "def showGraph(cypher: str = default_cypher):\n",
        "    # create a neo4j session to run queries\n",
        "    driver = GraphDatabase.driver(\n",
        "        uri = os.environ[\"NEO4J_URI\"],\n",
        "        auth = (os.environ[\"NEO4J_USERNAME\"],\n",
        "                os.environ[\"NEO4J_PASSWORD\"]))\n",
        "    session = driver.session()\n",
        "    widget = GraphWidget(graph = session.run(cypher).graph())\n",
        "    widget.node_label_mapping = 'id'\n",
        "    #display(widget)\n",
        "    return widget"
      ]
    },
    {
      "cell_type": "code",
      "execution_count": null,
      "metadata": {
        "colab": {
          "base_uri": "https://localhost:8080/",
          "height": 817,
          "referenced_widgets": [
            "a308671b92ec42da8083b0781df9e78a",
            "2f739e2fca0b478cb0c2372d39b0518c"
          ]
        },
        "id": "TnoV7_TNGh8m",
        "outputId": "0b69e497-70eb-4fe5-e147-9c8fc02c48cf"
      },
      "outputs": [],
      "source": [
        "showGraph()"
      ]
    },
    {
      "cell_type": "code",
      "execution_count": null,
      "metadata": {
        "id": "uh9ftPmVhBhv"
      },
      "outputs": [],
      "source": []
    },
    {
      "cell_type": "code",
      "execution_count": null,
      "metadata": {
        "id": "sW1eooLP44bL"
      },
      "outputs": [],
      "source": [
        "vector_index = Neo4jVector.from_existing_graph(\n",
        "    OpenAIEmbeddings(),\n",
        "    search_type=\"hybrid\",\n",
        "    node_label=\"Document\",\n",
        "    text_node_properties=[\"text\"],\n",
        "    embedding_node_property=\"embedding\"\n",
        ")"
      ]
    },
    {
      "cell_type": "code",
      "execution_count": null,
      "metadata": {
        "colab": {
          "base_uri": "https://localhost:8080/"
        },
        "id": "chRaUwyJpw5c",
        "outputId": "980e8db0-64bd-4838-f52c-32c0e9640a7a"
      },
      "outputs": [],
      "source": [
        "graph.query(\"CREATE FULLTEXT INDEX entity IF NOT EXISTS FOR (e:__Entity__) ON EACH [e.id]\")"
      ]
    },
    {
      "cell_type": "code",
      "execution_count": null,
      "metadata": {
        "id": "SVRIkn4O5P8O"
      },
      "outputs": [],
      "source": [
        "# Extract entities from text\n",
        "class Entities(BaseModel):\n",
        "    \"\"\"Identifying information about entities.\"\"\"\n",
        "\n",
        "    names: List[str] = Field(\n",
        "        ...,\n",
        "        description=\"All the person, organization, or business entities that \"\n",
        "        \"appear in the text\",\n",
        "    )"
      ]
    },
    {
      "cell_type": "code",
      "execution_count": null,
      "metadata": {
        "id": "UjvFxY9L5QFY"
      },
      "outputs": [],
      "source": [
        "prompt = ChatPromptTemplate.from_messages(\n",
        "    [\n",
        "        (\n",
        "            \"system\",\n",
        "            \"You are extracting organization and person entities from the text.\",\n",
        "        ),\n",
        "        (\n",
        "            \"human\",\n",
        "            \"Use the given format to extract information from the following \"\n",
        "            \"input: {question}\",\n",
        "        ),\n",
        "    ]\n",
        ")\n",
        "\n",
        "entity_chain = prompt | llm.with_structured_output(Entities)"
      ]
    },
    {
      "cell_type": "code",
      "execution_count": null,
      "metadata": {
        "colab": {
          "base_uri": "https://localhost:8080/"
        },
        "id": "nieBfUtIhDxj",
        "outputId": "feedb8ee-414a-46a1-a5a3-dedc8f69ac48"
      },
      "outputs": [],
      "source": [
        "entity_chain.invoke({\"question\": \"桃太郎と鬼の大将が戦った\"}).names"
      ]
    },
    {
      "cell_type": "code",
      "execution_count": null,
      "metadata": {
        "id": "T3meEmsX5hCU"
      },
      "outputs": [],
      "source": [
        "def generate_full_text_query(input: str) -> str:\n",
        "    \"\"\"\n",
        "    Generate a full-text search query for a given input string.\n",
        "\n",
        "    This function constructs a query string suitable for a full-text search.\n",
        "    It processes the input string by splitting it into words and appending a\n",
        "    similarity threshold (~2 changed characters) to each word, then combines\n",
        "    them using the AND operator. Useful for mapping entities from user questions\n",
        "    to database values, and allows for some misspelings.\n",
        "    \"\"\"\n",
        "    full_text_query = \"\"\n",
        "    words = [el for el in remove_lucene_chars(input).split() if el]\n",
        "    for word in words[:-1]:\n",
        "        full_text_query += f\" {word}~2 AND\"\n",
        "    full_text_query += f\" {words[-1]}~2\"\n",
        "    return full_text_query.strip()\n",
        "\n",
        "# Fulltext index query\n",
        "def structured_retriever(question: str) -> str:\n",
        "    \"\"\"\n",
        "    Collects the neighborhood of entities mentioned\n",
        "    in the question\n",
        "    \"\"\"\n",
        "    result = \"\"\n",
        "    entities = entity_chain.invoke({\"question\": question})\n",
        "    for entity in entities.names:\n",
        "        response = graph.query(\n",
        "            \"\"\"CALL db.index.fulltext.queryNodes('entity', $query, {limit:20})\n",
        "            YIELD node,score\n",
        "            CALL {\n",
        "              WITH node\n",
        "              MATCH (node)-[r:!MENTIONS]->(neighbor)\n",
        "              RETURN node.id + ' - ' + type(r) + ' -> ' + neighbor.id AS output\n",
        "              UNION ALL\n",
        "              WITH node\n",
        "              MATCH (node)<-[r:!MENTIONS]-(neighbor)\n",
        "              RETURN neighbor.id + ' - ' + type(r) + ' -> ' +  node.id AS output\n",
        "            }\n",
        "            RETURN output LIMIT 1000\n",
        "            \"\"\",\n",
        "            {\"query\": generate_full_text_query(entity)},\n",
        "        )\n",
        "        result += \"\\n\".join([el['output'] for el in response])\n",
        "    return result"
      ]
    },
    {
      "cell_type": "code",
      "execution_count": null,
      "metadata": {
        "colab": {
          "base_uri": "https://localhost:8080/"
        },
        "id": "mobzx64NhFgZ",
        "outputId": "1c2cfc57-30eb-4089-c5bc-ad4650ea40ae"
      },
      "outputs": [],
      "source": [
        "print(structured_retriever(\"桃太郎と関わりがあるエンティティを知りたい\"))"
      ]
    },
    {
      "cell_type": "code",
      "execution_count": null,
      "metadata": {
        "id": "ijqAmvTe6HVL"
      },
      "outputs": [],
      "source": [
        "def retriever(question: str):\n",
        "    print(f\"Search query: {question}\")\n",
        "    structured_data = structured_retriever(question)\n",
        "    unstructured_data = [el.page_content for el in vector_index.similarity_search(question)]\n",
        "    final_data = f\"\"\"Structured data:\n",
        "    {structured_data}\n",
        "    Unstructured data:\n",
        "    {\"#Document \". join(unstructured_data)}\n",
        "    \"\"\"\n",
        "    # print(final_data)\n",
        "    return final_data"
      ]
    },
    {
      "cell_type": "code",
      "execution_count": null,
      "metadata": {
        "id": "D0nBs5bRxrV1"
      },
      "outputs": [],
      "source": [
        "_search_query = RunnableLambda(lambda x: x[\"question\"])"
      ]
    },
    {
      "cell_type": "code",
      "execution_count": null,
      "metadata": {
        "id": "mQzgiro36NdG"
      },
      "outputs": [],
      "source": [
        "template = \"\"\"あなたは優秀なAIです。下記のコンテキストを利用してユーザーの質問に丁寧に答えてください。\n",
        "必ず文脈からわかる情報のみを使用して回答を生成してください。\n",
        "{context}\n",
        "\n",
        "ユーザーの質問: {question}\"\"\"\n",
        "prompt = ChatPromptTemplate.from_template(template)\n",
        "\n",
        "chain = (\n",
        "    RunnableParallel(\n",
        "        {\n",
        "            \"context\": _search_query | retriever,\n",
        "            \"question\": RunnablePassthrough(),\n",
        "        }\n",
        "    )\n",
        "    | prompt\n",
        "    | llm\n",
        "    | StrOutputParser()\n",
        ")"
      ]
    },
    {
      "cell_type": "code",
      "execution_count": null,
      "metadata": {
        "colab": {
          "base_uri": "https://localhost:8080/",
          "height": 54
        },
        "id": "rvRurBCIhHa_",
        "outputId": "bfdcca47-7e23-4113-c1e5-042978bc9615"
      },
      "outputs": [],
      "source": [
        "chain.invoke({\"question\": \"桃太郎と仲が悪いのは誰？\"})"
      ]
    },
    {
      "cell_type": "code",
      "execution_count": null,
      "metadata": {
        "id": "2cqRizwtqn_a"
      },
      "outputs": [],
      "source": [
        "chain.invoke({\"question\": \"桃太郎と仲が良いのは誰？\"})"
      ]
    },
    {
      "cell_type": "code",
      "execution_count": null,
      "metadata": {
        "id": "8pZhyuyv2jKX"
      },
      "outputs": [],
      "source": [
        "print(chain.invoke({\"question\": \"桃太郎が手にしたものは何ですか？\"}))"
      ]
    }
  ],
  "metadata": {
    "colab": {
      "provenance": []
    },
    "kernelspec": {
      "display_name": "Python 3",
      "name": "python3"
    },
    "language_info": {
      "codemirror_mode": {
        "name": "ipython",
        "version": 3
      },
      "file_extension": ".py",
      "mimetype": "text/x-python",
      "name": "python",
      "nbconvert_exporter": "python",
      "pygments_lexer": "ipython3",
      "version": "3.11.7"
    },
    "widgets": {
      "application/vnd.jupyter.widget-state+json": {
        "2f739e2fca0b478cb0c2372d39b0518c": {
          "model_module": "@jupyter-widgets/base",
          "model_module_version": "2.0.0",
          "model_name": "LayoutModel",
          "state": {
            "_model_module": "@jupyter-widgets/base",
            "_model_module_version": "2.0.0",
            "_model_name": "LayoutModel",
            "_view_count": null,
            "_view_module": "@jupyter-widgets/base",
            "_view_module_version": "2.0.0",
            "_view_name": "LayoutView",
            "align_content": null,
            "align_items": null,
            "align_self": null,
            "border_bottom": null,
            "border_left": null,
            "border_right": null,
            "border_top": null,
            "bottom": null,
            "display": null,
            "flex": null,
            "flex_flow": null,
            "grid_area": null,
            "grid_auto_columns": null,
            "grid_auto_flow": null,
            "grid_auto_rows": null,
            "grid_column": null,
            "grid_gap": null,
            "grid_row": null,
            "grid_template_areas": null,
            "grid_template_columns": null,
            "grid_template_rows": null,
            "height": "800px",
            "justify_content": null,
            "justify_items": null,
            "left": null,
            "margin": null,
            "max_height": null,
            "max_width": null,
            "min_height": null,
            "min_width": null,
            "object_fit": null,
            "object_position": null,
            "order": null,
            "overflow": null,
            "padding": null,
            "right": null,
            "top": null,
            "visibility": null,
            "width": "100%"
          }
        },
        "a308671b92ec42da8083b0781df9e78a": {
          "model_module": "yfiles-jupyter-graphs",
          "model_module_version": "^1.7.0",
          "model_name": "GraphModel",
          "state": {
            "_context_pane_mapping": [
              {
                "id": "Neighborhood",
                "title": "Neighborhood"
              },
              {
                "id": "Data",
                "title": "Data"
              },
              {
                "id": "Search",
                "title": "Search"
              },
              {
                "id": "About",
                "title": "About"
              }
            ],
            "_data_importer": "neo4j",
            "_directed": true,
            "_dom_classes": [],
            "_edges": [
              {
                "color": "#9C27B0",
                "directed": true,
                "end": 8,
                "id": 1152944594351030300,
                "label": "OPPOSED",
                "properties": {
                  "label": "OPPOSED"
                },
                "start": 1,
                "thickness_factor": 1
              },
              {
                "color": "#2196F3",
                "directed": true,
                "end": 2,
                "id": 1152959987513819100,
                "label": "FRIEND",
                "properties": {
                  "label": "FRIEND"
                },
                "start": 1,
                "thickness_factor": 1
              },
              {
                "color": "#4CAF50",
                "directed": true,
                "end": 3,
                "id": 6917568610059682000,
                "label": "POSSESSES",
                "properties": {
                  "label": "POSSESSES"
                },
                "start": 1,
                "thickness_factor": 1
              },
              {
                "color": "#4CAF50",
                "directed": true,
                "end": 4,
                "id": 1152961087025447000,
                "label": "POSSESSES",
                "properties": {
                  "label": "POSSESSES"
                },
                "start": 1,
                "thickness_factor": 1
              },
              {
                "color": "#F44336",
                "directed": true,
                "end": 3,
                "id": 1152963286048702500,
                "label": "SUMMONED",
                "properties": {
                  "label": "SUMMONED"
                },
                "start": 1,
                "thickness_factor": 1
              },
              {
                "color": "#607D8B",
                "directed": true,
                "end": 6,
                "id": 1152964385560330200,
                "label": "ACQUAINTANCE",
                "properties": {
                  "label": "ACQUAINTANCE"
                },
                "start": 1,
                "thickness_factor": 1
              },
              {
                "color": "#607D8B",
                "directed": true,
                "end": 7,
                "id": 1155216185374015500,
                "label": "ACQUAINTANCE",
                "properties": {
                  "label": "ACQUAINTANCE"
                },
                "start": 1,
                "thickness_factor": 1
              },
              {
                "color": "#673AB7",
                "directed": true,
                "end": 9,
                "id": 1152965485071958000,
                "label": "TRAINED",
                "properties": {
                  "label": "TRAINED"
                },
                "start": 1,
                "thickness_factor": 1
              },
              {
                "color": "#CDDC39",
                "directed": true,
                "end": 9,
                "id": 1152966584583585800,
                "label": "TEACHER",
                "properties": {
                  "label": "TEACHER"
                },
                "start": 1,
                "thickness_factor": 1
              },
              {
                "color": "#9E9E9E",
                "directed": true,
                "end": 6,
                "id": 1152979778723119000,
                "label": "ENCOUNTERED",
                "properties": {
                  "label": "ENCOUNTERED"
                },
                "start": 1,
                "thickness_factor": 1
              },
              {
                "color": "#9E9E9E",
                "directed": true,
                "end": 7,
                "id": 1155231578536804400,
                "label": "ENCOUNTERED",
                "properties": {
                  "label": "ENCOUNTERED"
                },
                "start": 1,
                "thickness_factor": 1
              },
              {
                "color": "#9C27B0",
                "directed": true,
                "end": 102,
                "id": 6917618088082932000,
                "label": "ENEMY",
                "properties": {
                  "label": "ENEMY"
                },
                "start": 1,
                "thickness_factor": 1
              },
              {
                "color": "#2196F3",
                "directed": true,
                "end": 5,
                "id": 1153018261630091300,
                "label": "ADOPTED_BY",
                "properties": {
                  "label": "ADOPTED_BY"
                },
                "start": 1,
                "thickness_factor": 1
              },
              {
                "color": "#4CAF50",
                "directed": true,
                "end": 8,
                "id": 1153019361141719000,
                "label": "OPPOSED_TO",
                "properties": {
                  "label": "OPPOSED_TO"
                },
                "start": 1,
                "thickness_factor": 1
              },
              {
                "color": "#F44336",
                "directed": true,
                "end": 9,
                "id": 1153021560164974600,
                "label": "TRAINED_BY",
                "properties": {
                  "label": "TRAINED_BY"
                },
                "start": 1,
                "thickness_factor": 1
              },
              {
                "color": "#607D8B",
                "directed": true,
                "end": 5,
                "id": 6917684058780598000,
                "label": "ADOPTED_PARENTAL_LEGACY",
                "properties": {
                  "label": "ADOPTED_PARENTAL_LEGACY"
                },
                "start": 1,
                "thickness_factor": 1
              },
              {
                "color": "#673AB7",
                "directed": true,
                "end": 36,
                "id": 1152972082141724700,
                "label": "ALLY",
                "properties": {
                  "label": "ALLY"
                },
                "start": 2,
                "thickness_factor": 1
              },
              {
                "color": "#CDDC39",
                "directed": true,
                "end": 37,
                "id": 1152980878234747000,
                "label": "TRAVEL_TO",
                "properties": {
                  "label": "TRAVEL_TO"
                },
                "start": 2,
                "thickness_factor": 1
              },
              {
                "color": "#9E9E9E",
                "directed": true,
                "end": 4,
                "id": 1152962186537074700,
                "label": "POSSESSED",
                "properties": {
                  "label": "POSSESSED"
                },
                "start": 5,
                "thickness_factor": 1
              },
              {
                "color": "#9C27B0",
                "directed": true,
                "end": 8,
                "id": 1153020460653346800,
                "label": "PREVENTED_AMBITION",
                "properties": {
                  "label": "PREVENTED_AMBITION"
                },
                "start": 6,
                "thickness_factor": 1
              },
              {
                "color": "#2196F3",
                "directed": true,
                "end": 10,
                "id": 1152959987513819100,
                "label": "FRIEND",
                "properties": {
                  "label": "FRIEND"
                },
                "start": 9,
                "thickness_factor": 1
              },
              {
                "color": "#2196F3",
                "directed": true,
                "end": 10,
                "id": 1153022659676602400,
                "label": "MENTORED",
                "properties": {
                  "label": "MENTORED"
                },
                "start": 9,
                "thickness_factor": 1
              },
              {
                "color": "#4CAF50",
                "directed": true,
                "end": 59,
                "id": 6919883082036150000,
                "label": "PARTICIPATED_IN",
                "properties": {
                  "label": "PARTICIPATED_IN"
                },
                "start": 9,
                "thickness_factor": 1
              },
              {
                "color": "#F44336",
                "directed": true,
                "end": 10,
                "id": 1153034754304508000,
                "label": "STUDENT",
                "properties": {
                  "label": "STUDENT"
                },
                "start": 9,
                "thickness_factor": 1
              },
              {
                "color": "#673AB7",
                "directed": true,
                "end": 36,
                "id": 1155223881955410000,
                "label": "ALLY",
                "properties": {
                  "label": "ALLY"
                },
                "start": 10,
                "thickness_factor": 1
              },
              {
                "color": "#CDDC39",
                "directed": true,
                "end": 37,
                "id": 1152980878234747000,
                "label": "TRAVEL_TO",
                "properties": {
                  "label": "TRAVEL_TO"
                },
                "start": 10,
                "thickness_factor": 1
              },
              {
                "color": "#607D8B",
                "directed": true,
                "end": 29,
                "id": 6917533425687593000,
                "label": "SIBLING",
                "properties": {
                  "label": "SIBLING"
                },
                "start": 12,
                "thickness_factor": 1
              },
              {
                "color": "#673AB7",
                "directed": true,
                "end": 44,
                "id": 6917543321292243000,
                "label": "DEFEAT",
                "properties": {
                  "label": "DEFEAT"
                },
                "start": 12,
                "thickness_factor": 1
              },
              {
                "color": "#CDDC39",
                "directed": true,
                "end": 26,
                "id": 6917559813966660000,
                "label": "MARRIED",
                "properties": {
                  "label": "MARRIED"
                },
                "start": 12,
                "thickness_factor": 1
              },
              {
                "color": "#2196F3",
                "directed": true,
                "end": 10,
                "id": 1152959987513819100,
                "label": "FRIEND",
                "properties": {
                  "label": "FRIEND"
                },
                "start": 12,
                "thickness_factor": 1
              },
              {
                "color": "#2196F3",
                "directed": true,
                "end": 36,
                "id": 1155211787327504400,
                "label": "FRIEND",
                "properties": {
                  "label": "FRIEND"
                },
                "start": 12,
                "thickness_factor": 1
              },
              {
                "color": "#9E9E9E",
                "directed": true,
                "end": 41,
                "id": 6917569709571310000,
                "label": "POSSESSED",
                "properties": {
                  "label": "POSSESSED"
                },
                "start": 12,
                "thickness_factor": 1
              },
              {
                "color": "#CDDC39",
                "directed": true,
                "end": 9,
                "id": 1152966584583585800,
                "label": "TEACHER",
                "properties": {
                  "label": "TEACHER"
                },
                "start": 12,
                "thickness_factor": 1
              },
              {
                "color": "#9E9E9E",
                "directed": true,
                "end": 13,
                "id": 1152967684095213600,
                "label": "OPPONENT",
                "properties": {
                  "label": "OPPONENT"
                },
                "start": 12,
                "thickness_factor": 1
              },
              {
                "color": "#9E9E9E",
                "directed": true,
                "end": 15,
                "id": 1155219483908898800,
                "label": "OPPONENT",
                "properties": {
                  "label": "OPPONENT"
                },
                "start": 12,
                "thickness_factor": 1
              },
              {
                "color": "#9C27B0",
                "directed": true,
                "end": 14,
                "id": 1152968783606841300,
                "label": "TRAINING_PARTNER",
                "properties": {
                  "label": "TRAINING_PARTNER"
                },
                "start": 12,
                "thickness_factor": 1
              },
              {
                "color": "#2196F3",
                "directed": true,
                "end": 5,
                "id": 1152969883118469000,
                "label": "REUNION",
                "properties": {
                  "label": "REUNION"
                },
                "start": 12,
                "thickness_factor": 1
              },
              {
                "color": "#673AB7",
                "directed": true,
                "end": 10,
                "id": 6917579605175960000,
                "label": "ALLY",
                "properties": {
                  "label": "ALLY"
                },
                "start": 12,
                "thickness_factor": 1
              },
              {
                "color": "#673AB7",
                "directed": true,
                "end": 17,
                "id": 1152972082141724700,
                "label": "ALLY",
                "properties": {
                  "label": "ALLY"
                },
                "start": 12,
                "thickness_factor": 1
              },
              {
                "color": "#673AB7",
                "directed": true,
                "end": 19,
                "id": 1155223881955410000,
                "label": "ALLY",
                "properties": {
                  "label": "ALLY"
                },
                "start": 12,
                "thickness_factor": 1
              },
              {
                "color": "#673AB7",
                "directed": true,
                "end": 30,
                "id": 6917579605175960000,
                "label": "ALLY",
                "properties": {
                  "label": "ALLY"
                },
                "start": 12,
                "thickness_factor": 1
              },
              {
                "color": "#673AB7",
                "directed": true,
                "end": 36,
                "id": 6917579605175960000,
                "label": "ALLY",
                "properties": {
                  "label": "ALLY"
                },
                "start": 12,
                "thickness_factor": 1
              },
              {
                "color": "#673AB7",
                "directed": true,
                "end": 79,
                "id": 6917579605175960000,
                "label": "ALLY",
                "properties": {
                  "label": "ALLY"
                },
                "start": 12,
                "thickness_factor": 1
              },
              {
                "color": "#4CAF50",
                "directed": true,
                "end": 16,
                "id": 1152973181653352400,
                "label": "CHALLENGE",
                "properties": {
                  "label": "CHALLENGE"
                },
                "start": 12,
                "thickness_factor": 1
              },
              {
                "color": "#4CAF50",
                "directed": true,
                "end": 27,
                "id": 1155224981467037700,
                "label": "CHALLENGE",
                "properties": {
                  "label": "CHALLENGE"
                },
                "start": 12,
                "thickness_factor": 1
              },
              {
                "color": "#F44336",
                "directed": true,
                "end": 3,
                "id": 1152974281164980200,
                "label": "SEEKS",
                "properties": {
                  "label": "SEEKS"
                },
                "start": 12,
                "thickness_factor": 1
              },
              {
                "color": "#F44336",
                "directed": true,
                "end": 21,
                "id": 1155226080978665500,
                "label": "SEEKS",
                "properties": {
                  "label": "SEEKS"
                },
                "start": 12,
                "thickness_factor": 1
              },
              {
                "color": "#607D8B",
                "directed": true,
                "end": 22,
                "id": 1152975380676608000,
                "label": "VISITS",
                "properties": {
                  "label": "VISITS"
                },
                "start": 12,
                "thickness_factor": 1
              },
              {
                "color": "#673AB7",
                "directed": true,
                "end": 23,
                "id": 1152976480188235800,
                "label": "MEETS",
                "properties": {
                  "label": "MEETS"
                },
                "start": 12,
                "thickness_factor": 1
              },
              {
                "color": "#673AB7",
                "directed": true,
                "end": 24,
                "id": 1155228280001921000,
                "label": "MEETS",
                "properties": {
                  "label": "MEETS"
                },
                "start": 12,
                "thickness_factor": 1
              }
            ],
            "_graph_layout": {},
            "_highlight": [],
            "_license": {},
            "_model_module": "yfiles-jupyter-graphs",
            "_model_module_version": "^1.7.0",
            "_model_name": "GraphModel",
            "_neighborhood": {},
            "_nodes": [
              {
                "color": "#2196F3",
                "id": 1,
                "label": "孫悟空",
                "position": [
                  0,
                  0
                ],
                "properties": {
                  "id": "孫悟空",
                  "label": "__Entity__:Person"
                },
                "scale_factor": 1,
                "size": [
                  55,
                  55
                ],
                "styles": {},
                "type": "#2196F3"
              },
              {
                "color": "#4CAF50",
                "id": 8,
                "label": "ピラフ一味",
                "position": [
                  0,
                  0
                ],
                "properties": {
                  "id": "ピラフ一味",
                  "label": "__Entity__:Group"
                },
                "scale_factor": 1,
                "size": [
                  55,
                  55
                ],
                "styles": {},
                "type": "#4CAF50"
              },
              {
                "color": "#F44336",
                "id": 2,
                "label": "ブルマ",
                "position": [
                  0,
                  0
                ],
                "properties": {
                  "id": "ブルマ",
                  "label": "人物:__Entity__:Character:Person"
                },
                "scale_factor": 1,
                "size": [
                  55,
                  55
                ],
                "styles": {},
                "type": "#F44336"
              },
              {
                "color": "#607D8B",
                "id": 3,
                "label": "神龍",
                "position": [
                  0,
                  0
                ],
                "properties": {
                  "id": "神龍",
                  "label": "Dragon:__Entity__:Character:Person"
                },
                "scale_factor": 1,
                "size": [
                  55,
                  55
                ],
                "styles": {},
                "type": "#607D8B"
              },
              {
                "color": "#673AB7",
                "id": 4,
                "label": "四星球",
                "position": [
                  0,
                  0
                ],
                "properties": {
                  "id": "四星球",
                  "label": "__Entity__:Dragon ball"
                },
                "scale_factor": 1,
                "size": [
                  55,
                  55
                ],
                "styles": {},
                "type": "#673AB7"
              },
              {
                "color": "#2196F3",
                "id": 6,
                "label": "ウーロン",
                "position": [
                  0,
                  0
                ],
                "properties": {
                  "id": "ウーロン",
                  "label": "__Entity__:Person"
                },
                "scale_factor": 1,
                "size": [
                  55,
                  55
                ],
                "styles": {},
                "type": "#2196F3"
              },
              {
                "color": "#2196F3",
                "id": 7,
                "label": "ヤムチャ",
                "position": [
                  0,
                  0
                ],
                "properties": {
                  "id": "ヤムチャ",
                  "label": "__Entity__:Person"
                },
                "scale_factor": 1,
                "size": [
                  55,
                  55
                ],
                "styles": {},
                "type": "#2196F3"
              },
              {
                "color": "#CDDC39",
                "id": 9,
                "label": "亀仙人",
                "position": [
                  0,
                  0
                ],
                "properties": {
                  "id": "亀仙人",
                  "label": "__Entity__:Character:Person"
                },
                "scale_factor": 1,
                "size": [
                  55,
                  55
                ],
                "styles": {},
                "type": "#CDDC39"
              },
              {
                "color": "#2196F3",
                "id": 102,
                "label": "ピラフ",
                "position": [
                  0,
                  0
                ],
                "properties": {
                  "id": "ピラフ",
                  "label": "__Entity__:Person"
                },
                "scale_factor": 1,
                "size": [
                  55,
                  55
                ],
                "styles": {},
                "type": "#2196F3"
              },
              {
                "color": "#2196F3",
                "id": 5,
                "label": "孫悟飯",
                "position": [
                  0,
                  0
                ],
                "properties": {
                  "id": "孫悟飯",
                  "label": "__Entity__:Person"
                },
                "scale_factor": 1,
                "size": [
                  55,
                  55
                ],
                "styles": {},
                "type": "#2196F3"
              },
              {
                "color": "#9E9E9E",
                "id": 36,
                "label": "悟飯",
                "position": [
                  0,
                  0
                ],
                "properties": {
                  "id": "悟飯",
                  "label": "戦士:Character:Person:__Entity__:人間"
                },
                "scale_factor": 1,
                "size": [
                  55,
                  55
                ],
                "styles": {},
                "type": "#9E9E9E"
              },
              {
                "color": "#9C27B0",
                "id": 37,
                "label": "ナメック星",
                "position": [
                  0,
                  0
                ],
                "properties": {
                  "id": "ナメック星",
                  "label": "Planet:場所:__Entity__:存在"
                },
                "scale_factor": 1,
                "size": [
                  55,
                  55
                ],
                "styles": {},
                "type": "#9C27B0"
              },
              {
                "color": "#CDDC39",
                "id": 10,
                "label": "クリリン",
                "position": [
                  0,
                  0
                ],
                "properties": {
                  "id": "クリリン",
                  "label": "__Entity__:Character:Person"
                },
                "scale_factor": 1,
                "size": [
                  55,
                  55
                ],
                "styles": {},
                "type": "#CDDC39"
              },
              {
                "color": "#2196F3",
                "id": 59,
                "label": "天下一武道会",
                "position": [
                  0,
                  0
                ],
                "properties": {
                  "id": "天下一武道会",
                  "label": "Event:__Entity__"
                },
                "scale_factor": 1,
                "size": [
                  55,
                  55
                ],
                "styles": {},
                "type": "#2196F3"
              },
              {
                "color": "#4CAF50",
                "id": 12,
                "label": "悟空",
                "position": [
                  0,
                  0
                ],
                "properties": {
                  "id": "悟空",
                  "label": "キャラクター:戦士:Character:Person:__Entity__:人間"
                },
                "scale_factor": 1,
                "size": [
                  55,
                  55
                ],
                "styles": {},
                "type": "#4CAF50"
              },
              {
                "color": "#2196F3",
                "id": 29,
                "label": "ラディッツ",
                "position": [
                  0,
                  0
                ],
                "properties": {
                  "id": "ラディッツ",
                  "label": "__Entity__:Person"
                },
                "scale_factor": 1,
                "size": [
                  55,
                  55
                ],
                "styles": {},
                "type": "#2196F3"
              },
              {
                "color": "#F44336",
                "id": 44,
                "label": "セル",
                "position": [
                  0,
                  0
                ],
                "properties": {
                  "id": "セル",
                  "label": "敵:__Entity__:Character"
                },
                "scale_factor": 1,
                "size": [
                  55,
                  55
                ],
                "styles": {},
                "type": "#F44336"
              },
              {
                "color": "#CDDC39",
                "id": 26,
                "label": "チチ",
                "position": [
                  0,
                  0
                ],
                "properties": {
                  "id": "チチ",
                  "label": "__Entity__:Character:Person"
                },
                "scale_factor": 1,
                "size": [
                  55,
                  55
                ],
                "styles": {},
                "type": "#CDDC39"
              },
              {
                "color": "#607D8B",
                "id": 41,
                "label": "ドラゴンボール",
                "position": [
                  0,
                  0
                ],
                "properties": {
                  "id": "ドラゴンボール",
                  "label": "アイテム:存在:Item:__Entity__:Object"
                },
                "scale_factor": 1,
                "size": [
                  55,
                  55
                ],
                "styles": {},
                "type": "#607D8B"
              },
              {
                "color": "#4CAF50",
                "id": 13,
                "label": "レッドリボン軍",
                "position": [
                  0,
                  0
                ],
                "properties": {
                  "id": "レッドリボン軍",
                  "label": "__Entity__:Group"
                },
                "scale_factor": 1,
                "size": [
                  55,
                  55
                ],
                "styles": {},
                "type": "#4CAF50"
              },
              {
                "color": "#2196F3",
                "id": 15,
                "label": "天津飯",
                "position": [
                  0,
                  0
                ],
                "properties": {
                  "id": "天津飯",
                  "label": "__Entity__:Person"
                },
                "scale_factor": 1,
                "size": [
                  55,
                  55
                ],
                "styles": {},
                "type": "#2196F3"
              },
              {
                "color": "#2196F3",
                "id": 14,
                "label": "仙猫カリン",
                "position": [
                  0,
                  0
                ],
                "properties": {
                  "id": "仙猫カリン",
                  "label": "__Entity__:Person"
                },
                "scale_factor": 1,
                "size": [
                  55,
                  55
                ],
                "styles": {},
                "type": "#2196F3"
              },
              {
                "color": "#CDDC39",
                "id": 17,
                "label": "ヤジロベー",
                "position": [
                  0,
                  0
                ],
                "properties": {
                  "id": "ヤジロベー",
                  "label": "__Entity__:Character:Person"
                },
                "scale_factor": 1,
                "size": [
                  55,
                  55
                ],
                "styles": {},
                "type": "#CDDC39"
              },
              {
                "color": "#673AB7",
                "id": 19,
                "label": "カリン",
                "position": [
                  0,
                  0
                ],
                "properties": {
                  "id": "カリン",
                  "label": "__Entity__:Character"
                },
                "scale_factor": 1,
                "size": [
                  55,
                  55
                ],
                "styles": {},
                "type": "#673AB7"
              },
              {
                "color": "#CDDC39",
                "id": 30,
                "label": "ピッコロ",
                "position": [
                  0,
                  0
                ],
                "properties": {
                  "id": "ピッコロ",
                  "label": "__Entity__:Character:Person"
                },
                "scale_factor": 1,
                "size": [
                  55,
                  55
                ],
                "styles": {},
                "type": "#CDDC39"
              },
              {
                "color": "#2196F3",
                "id": 79,
                "label": "仲間",
                "position": [
                  0,
                  0
                ],
                "properties": {
                  "id": "仲間",
                  "label": "__Entity__:Person"
                },
                "scale_factor": 1,
                "size": [
                  55,
                  55
                ],
                "styles": {},
                "type": "#2196F3"
              },
              {
                "color": "#CDDC39",
                "id": 16,
                "label": "ピッコロ大魔王",
                "position": [
                  0,
                  0
                ],
                "properties": {
                  "id": "ピッコロ大魔王",
                  "label": "Villain:__Entity__:Character:Person"
                },
                "scale_factor": 1,
                "size": [
                  55,
                  55
                ],
                "styles": {},
                "type": "#CDDC39"
              },
              {
                "color": "#2196F3",
                "id": 27,
                "label": "マジュニア",
                "position": [
                  0,
                  0
                ],
                "properties": {
                  "id": "マジュニア",
                  "label": "__Entity__:Person"
                },
                "scale_factor": 1,
                "size": [
                  55,
                  55
                ],
                "styles": {},
                "type": "#2196F3"
              },
              {
                "color": "#2196F3",
                "id": 21,
                "label": "仲間たち",
                "position": [
                  0,
                  0
                ],
                "properties": {
                  "id": "仲間たち",
                  "label": "__Entity__:Person"
                },
                "scale_factor": 1,
                "size": [
                  55,
                  55
                ],
                "styles": {},
                "type": "#2196F3"
              },
              {
                "color": "#9E9E9E",
                "id": 22,
                "label": "天界",
                "position": [
                  0,
                  0
                ],
                "properties": {
                  "id": "天界",
                  "label": "Place:__Entity__"
                },
                "scale_factor": 1,
                "size": [
                  55,
                  55
                ],
                "styles": {},
                "type": "#9E9E9E"
              },
              {
                "color": "#2196F3",
                "id": 23,
                "label": "ドラゴンボールの創造者",
                "position": [
                  0,
                  0
                ],
                "properties": {
                  "id": "ドラゴンボールの創造者",
                  "label": "__Entity__:Person"
                },
                "scale_factor": 1,
                "size": [
                  55,
                  55
                ],
                "styles": {},
                "type": "#2196F3"
              },
              {
                "color": "#CDDC39",
                "id": 24,
                "label": "神様",
                "position": [
                  0,
                  0
                ],
                "properties": {
                  "id": "神様",
                  "label": "__Entity__:Character:Person"
                },
                "scale_factor": 1,
                "size": [
                  55,
                  55
                ],
                "styles": {},
                "type": "#CDDC39"
              }
            ],
            "_overview": {
              "enabled": null,
              "overview_set": false
            },
            "_selected_graph": [
              [],
              []
            ],
            "_sidebar": {
              "enabled": true,
              "start_with": ""
            },
            "_view_count": null,
            "_view_module": "yfiles-jupyter-graphs",
            "_view_module_version": "^1.7.0",
            "_view_name": "GraphView",
            "layout": "IPY_MODEL_2f739e2fca0b478cb0c2372d39b0518c",
            "tabbable": null,
            "tooltip": null
          }
        }
      }
    }
  },
  "nbformat": 4,
  "nbformat_minor": 0
}
